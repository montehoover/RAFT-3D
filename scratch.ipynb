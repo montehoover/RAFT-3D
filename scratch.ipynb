{
 "cells": [
  {
   "cell_type": "code",
   "execution_count": 1,
   "metadata": {},
   "outputs": [],
   "source": [
    "import numpy as np\n",
    "from PIL import Image\n",
    "from os.path import *\n",
    "import re\n",
    "import cv2\n",
    "from scipy.spatial.transform import Rotation\n",
    "\n",
    "from lietorch import SE3\n",
    "\n",
    "import torch\n",
    "import torch.nn.functional as F\n",
    "\n",
    "import pickle\n"
   ]
  },
  {
   "cell_type": "code",
   "execution_count": 5,
   "metadata": {},
   "outputs": [],
   "source": [
    "with open(\"scratch1.pickle\", 'rb') as f:\n",
    "    l1 = pickle.load(f)\n",
    "Ts, X0, depth = l1\n",
    "\n",
    "with open(\"scratch2.pickle\", 'rb') as f:\n",
    "    l2 = pickle.load(f)\n",
    "Ts2, X02, depth2 = l2"
   ]
  },
  {
   "cell_type": "code",
   "execution_count": 6,
   "metadata": {},
   "outputs": [],
   "source": [
    "X1 = Ts * X0"
   ]
  },
  {
   "cell_type": "code",
   "execution_count": 7,
   "metadata": {},
   "outputs": [
    {
     "data": {
      "text/plain": [
       "torch.Size([1, 68, 120, 3])"
      ]
     },
     "execution_count": 7,
     "metadata": {},
     "output_type": "execute_result"
    }
   ],
   "source": [
    "X1.shape"
   ]
  },
  {
   "cell_type": "code",
   "execution_count": 8,
   "metadata": {},
   "outputs": [
    {
     "ename": "AssertionError",
     "evalue": "",
     "output_type": "error",
     "traceback": [
      "\u001b[0;31m---------------------------------------------------------------------------\u001b[0m",
      "\u001b[0;31mAssertionError\u001b[0m                            Traceback (most recent call last)",
      "\u001b[1;32m/home/mhoover/code/RAFT-3D/scratch.ipynb Cell 5'\u001b[0m in \u001b[0;36m<module>\u001b[0;34m\u001b[0m\n\u001b[0;32m----> <a href='vscode-notebook-cell:/home/mhoover/code/RAFT-3D/scratch.ipynb#ch0000004?line=0'>1</a>\u001b[0m Ts2 \u001b[39m*\u001b[39;49m X02\n",
      "File \u001b[0;32m~/code/RAFT-3D/.venv/lib/python3.8/site-packages/lietorch/groups.py:206\u001b[0m, in \u001b[0;36mLieGroup.__mul__\u001b[0;34m(self, other)\u001b[0m\n\u001b[1;32m    <a href='file:///home/mhoover/code/RAFT-3D/.venv/lib/python3.8/site-packages/lietorch/groups.py?line=203'>204</a>\u001b[0m \u001b[39m# action on point\u001b[39;00m\n\u001b[1;32m    <a href='file:///home/mhoover/code/RAFT-3D/.venv/lib/python3.8/site-packages/lietorch/groups.py?line=204'>205</a>\u001b[0m \u001b[39melif\u001b[39;00m \u001b[39misinstance\u001b[39m(other, torch\u001b[39m.\u001b[39mTensor):\n\u001b[0;32m--> <a href='file:///home/mhoover/code/RAFT-3D/.venv/lib/python3.8/site-packages/lietorch/groups.py?line=205'>206</a>\u001b[0m     \u001b[39mreturn\u001b[39;00m \u001b[39mself\u001b[39;49m\u001b[39m.\u001b[39;49mact(other)\n",
      "File \u001b[0;32m~/code/RAFT-3D/.venv/lib/python3.8/site-packages/lietorch/groups.py:174\u001b[0m, in \u001b[0;36mLieGroup.act\u001b[0;34m(self, p)\u001b[0m\n\u001b[1;32m    <a href='file:///home/mhoover/code/RAFT-3D/.venv/lib/python3.8/site-packages/lietorch/groups.py?line=171'>172</a>\u001b[0m \u001b[39m# action on point\u001b[39;00m\n\u001b[1;32m    <a href='file:///home/mhoover/code/RAFT-3D/.venv/lib/python3.8/site-packages/lietorch/groups.py?line=172'>173</a>\u001b[0m \u001b[39mif\u001b[39;00m p\u001b[39m.\u001b[39mshape[\u001b[39m-\u001b[39m\u001b[39m1\u001b[39m] \u001b[39m==\u001b[39m \u001b[39m3\u001b[39m:\n\u001b[0;32m--> <a href='file:///home/mhoover/code/RAFT-3D/.venv/lib/python3.8/site-packages/lietorch/groups.py?line=173'>174</a>\u001b[0m     \u001b[39mreturn\u001b[39;00m \u001b[39mself\u001b[39;49m\u001b[39m.\u001b[39;49mapply_op(Act3, \u001b[39mself\u001b[39;49m\u001b[39m.\u001b[39;49mdata, p)\n\u001b[1;32m    <a href='file:///home/mhoover/code/RAFT-3D/.venv/lib/python3.8/site-packages/lietorch/groups.py?line=175'>176</a>\u001b[0m \u001b[39m# action on homogeneous point\u001b[39;00m\n\u001b[1;32m    <a href='file:///home/mhoover/code/RAFT-3D/.venv/lib/python3.8/site-packages/lietorch/groups.py?line=176'>177</a>\u001b[0m \u001b[39melif\u001b[39;00m p\u001b[39m.\u001b[39mshape[\u001b[39m-\u001b[39m\u001b[39m1\u001b[39m] \u001b[39m==\u001b[39m \u001b[39m4\u001b[39m:\n",
      "File \u001b[0;32m~/code/RAFT-3D/.venv/lib/python3.8/site-packages/lietorch/groups.py:127\u001b[0m, in \u001b[0;36mLieGroup.apply_op\u001b[0;34m(cls, op, x, y)\u001b[0m\n\u001b[1;32m    <a href='file:///home/mhoover/code/RAFT-3D/.venv/lib/python3.8/site-packages/lietorch/groups.py?line=123'>124</a>\u001b[0m \u001b[39m@classmethod\u001b[39m\n\u001b[1;32m    <a href='file:///home/mhoover/code/RAFT-3D/.venv/lib/python3.8/site-packages/lietorch/groups.py?line=124'>125</a>\u001b[0m \u001b[39mdef\u001b[39;00m \u001b[39mapply_op\u001b[39m(\u001b[39mcls\u001b[39m, op, x, y\u001b[39m=\u001b[39m\u001b[39mNone\u001b[39;00m):\n\u001b[1;32m    <a href='file:///home/mhoover/code/RAFT-3D/.venv/lib/python3.8/site-packages/lietorch/groups.py?line=125'>126</a>\u001b[0m     \u001b[39m\"\"\" Apply group operator \"\"\"\u001b[39;00m\n\u001b[0;32m--> <a href='file:///home/mhoover/code/RAFT-3D/.venv/lib/python3.8/site-packages/lietorch/groups.py?line=126'>127</a>\u001b[0m     inputs, out_shape \u001b[39m=\u001b[39m broadcast_inputs(x, y)\n\u001b[1;32m    <a href='file:///home/mhoover/code/RAFT-3D/.venv/lib/python3.8/site-packages/lietorch/groups.py?line=128'>129</a>\u001b[0m     data \u001b[39m=\u001b[39m op\u001b[39m.\u001b[39mapply(\u001b[39mcls\u001b[39m\u001b[39m.\u001b[39mgroup_id, \u001b[39m*\u001b[39minputs)\n\u001b[1;32m    <a href='file:///home/mhoover/code/RAFT-3D/.venv/lib/python3.8/site-packages/lietorch/groups.py?line=129'>130</a>\u001b[0m     \u001b[39mreturn\u001b[39;00m data\u001b[39m.\u001b[39mview(out_shape \u001b[39m+\u001b[39m (\u001b[39m-\u001b[39m\u001b[39m1\u001b[39m,))\n",
      "File \u001b[0;32m~/code/RAFT-3D/.venv/lib/python3.8/site-packages/lietorch/broadcasting.py:15\u001b[0m, in \u001b[0;36mbroadcast_inputs\u001b[0;34m(x, y)\u001b[0m\n\u001b[1;32m     <a href='file:///home/mhoover/code/RAFT-3D/.venv/lib/python3.8/site-packages/lietorch/broadcasting.py?line=11'>12</a>\u001b[0m     xs, xd \u001b[39m=\u001b[39m x\u001b[39m.\u001b[39mshape[:\u001b[39m-\u001b[39m\u001b[39m1\u001b[39m], x\u001b[39m.\u001b[39mshape[\u001b[39m-\u001b[39m\u001b[39m1\u001b[39m] \n\u001b[1;32m     <a href='file:///home/mhoover/code/RAFT-3D/.venv/lib/python3.8/site-packages/lietorch/broadcasting.py?line=12'>13</a>\u001b[0m     \u001b[39mreturn\u001b[39;00m (x\u001b[39m.\u001b[39mview(\u001b[39m-\u001b[39m\u001b[39m1\u001b[39m, xd)\u001b[39m.\u001b[39mcontiguous(), ), x\u001b[39m.\u001b[39mshape[:\u001b[39m-\u001b[39m\u001b[39m1\u001b[39m]\n\u001b[0;32m---> <a href='file:///home/mhoover/code/RAFT-3D/.venv/lib/python3.8/site-packages/lietorch/broadcasting.py?line=14'>15</a>\u001b[0m check_broadcastable(x, y)\n\u001b[1;32m     <a href='file:///home/mhoover/code/RAFT-3D/.venv/lib/python3.8/site-packages/lietorch/broadcasting.py?line=16'>17</a>\u001b[0m xs, xd \u001b[39m=\u001b[39m x\u001b[39m.\u001b[39mshape[:\u001b[39m-\u001b[39m\u001b[39m1\u001b[39m], x\u001b[39m.\u001b[39mshape[\u001b[39m-\u001b[39m\u001b[39m1\u001b[39m] \n\u001b[1;32m     <a href='file:///home/mhoover/code/RAFT-3D/.venv/lib/python3.8/site-packages/lietorch/broadcasting.py?line=17'>18</a>\u001b[0m ys, yd \u001b[39m=\u001b[39m y\u001b[39m.\u001b[39mshape[:\u001b[39m-\u001b[39m\u001b[39m1\u001b[39m], y\u001b[39m.\u001b[39mshape[\u001b[39m-\u001b[39m\u001b[39m1\u001b[39m]\n",
      "File \u001b[0;32m~/code/RAFT-3D/.venv/lib/python3.8/site-packages/lietorch/broadcasting.py:7\u001b[0m, in \u001b[0;36mcheck_broadcastable\u001b[0;34m(x, y)\u001b[0m\n\u001b[1;32m      <a href='file:///home/mhoover/code/RAFT-3D/.venv/lib/python3.8/site-packages/lietorch/broadcasting.py?line=4'>5</a>\u001b[0m \u001b[39massert\u001b[39;00m \u001b[39mlen\u001b[39m(x\u001b[39m.\u001b[39mshape) \u001b[39m==\u001b[39m \u001b[39mlen\u001b[39m(y\u001b[39m.\u001b[39mshape)\n\u001b[1;32m      <a href='file:///home/mhoover/code/RAFT-3D/.venv/lib/python3.8/site-packages/lietorch/broadcasting.py?line=5'>6</a>\u001b[0m \u001b[39mfor\u001b[39;00m (n, m) \u001b[39min\u001b[39;00m \u001b[39mzip\u001b[39m(x\u001b[39m.\u001b[39mshape[:\u001b[39m-\u001b[39m\u001b[39m1\u001b[39m], y\u001b[39m.\u001b[39mshape[:\u001b[39m-\u001b[39m\u001b[39m1\u001b[39m]):\n\u001b[0;32m----> <a href='file:///home/mhoover/code/RAFT-3D/.venv/lib/python3.8/site-packages/lietorch/broadcasting.py?line=6'>7</a>\u001b[0m     \u001b[39massert\u001b[39;00m n\u001b[39m==\u001b[39mm \u001b[39mor\u001b[39;00m n\u001b[39m==\u001b[39m\u001b[39m1\u001b[39m \u001b[39mor\u001b[39;00m m\u001b[39m==\u001b[39m\u001b[39m1\u001b[39m\n",
      "\u001b[0;31mAssertionError\u001b[0m: "
     ]
    }
   ],
   "source": [
    "Ts2 * X02"
   ]
  },
  {
   "cell_type": "code",
   "execution_count": 9,
   "metadata": {},
   "outputs": [
    {
     "name": "stdout",
     "output_type": "stream",
     "text": [
      "torch.Size([1, 68, 120, 3])\n",
      "torch.Size([1, 61, 80, 3])\n"
     ]
    }
   ],
   "source": [
    "print(X0.shape)\n",
    "print(X02.shape)"
   ]
  },
  {
   "cell_type": "code",
   "execution_count": 10,
   "metadata": {},
   "outputs": [
    {
     "name": "stdout",
     "output_type": "stream",
     "text": [
      "torch.Size([1, 68, 120])\n",
      "torch.Size([1, 60, 80])\n"
     ]
    }
   ],
   "source": [
    "print(Ts.shape)\n",
    "print(Ts2.shape)"
   ]
  },
  {
   "cell_type": "code",
   "execution_count": 11,
   "metadata": {},
   "outputs": [
    {
     "name": "stdout",
     "output_type": "stream",
     "text": [
      "torch.Size([1, 68, 120])\n",
      "torch.Size([1, 61, 80])\n"
     ]
    }
   ],
   "source": [
    "print(depth.shape)\n",
    "print(depth2.shape)"
   ]
  },
  {
   "cell_type": "code",
   "execution_count": 55,
   "metadata": {},
   "outputs": [
    {
     "data": {
      "text/plain": [
       "array([ 3, 11])"
      ]
     },
     "execution_count": 55,
     "metadata": {},
     "output_type": "execute_result"
    }
   ],
   "source": [
    "np.arange(19)[3::8]"
   ]
  },
  {
   "cell_type": "code",
   "execution_count": 45,
   "metadata": {},
   "outputs": [
    {
     "data": {
      "text/plain": [
       "1"
      ]
     },
     "execution_count": 45,
     "metadata": {},
     "output_type": "execute_result"
    }
   ],
   "source": [
    "12//8"
   ]
  },
  {
   "cell_type": "code",
   "execution_count": 51,
   "metadata": {},
   "outputs": [
    {
     "data": {
      "text/plain": [
       "0"
      ]
     },
     "execution_count": 51,
     "metadata": {},
     "output_type": "execute_result"
    }
   ],
   "source": [
    "16 % 8"
   ]
  },
  {
   "cell_type": "code",
   "execution_count": 54,
   "metadata": {},
   "outputs": [
    {
     "data": {
      "text/plain": [
       "2"
      ]
     },
     "execution_count": 54,
     "metadata": {},
     "output_type": "execute_result"
    }
   ],
   "source": [
    "16 // 8"
   ]
  },
  {
   "cell_type": "code",
   "execution_count": null,
   "metadata": {},
   "outputs": [],
   "source": []
  }
 ],
 "metadata": {
  "interpreter": {
   "hash": "bc69f28066780c5a4c468a98214b590f48e7865f1a03f36e1198731622eb7d1c"
  },
  "kernelspec": {
   "display_name": "Python 3.8.10 ('.venv': venv)",
   "language": "python",
   "name": "python3"
  },
  "language_info": {
   "codemirror_mode": {
    "name": "ipython",
    "version": 3
   },
   "file_extension": ".py",
   "mimetype": "text/x-python",
   "name": "python",
   "nbconvert_exporter": "python",
   "pygments_lexer": "ipython3",
   "version": "3.8.10"
  },
  "orig_nbformat": 4
 },
 "nbformat": 4,
 "nbformat_minor": 2
}
